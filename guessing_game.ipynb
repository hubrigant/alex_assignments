{
 "cells": [
  {
   "cell_type": "code",
   "execution_count": 1,
   "metadata": {},
   "outputs": [
    {
     "name": "stdin",
     "output_type": "stream",
     "text": [
      "do you want to play? yes\n"
     ]
    },
    {
     "name": "stdout",
     "output_type": "stream",
     "text": [
      "what shall the range be. enter the low number\n"
     ]
    },
    {
     "name": "stdin",
     "output_type": "stream",
     "text": [
      " 0\n",
      "what shall the range be. enter the high number 1\n",
      "what number am I thinking of 1\n",
      "Good job. Play again? n\n"
     ]
    },
    {
     "name": "stdout",
     "output_type": "stream",
     "text": [
      "Your most tries are 1\n",
      "your least tries are 0\n"
     ]
    }
   ],
   "source": [
    "import random\n",
    "\n",
    "play = input('do you want to play?')\n",
    "print ('what shall the range be. enter the low number')\n",
    "low = int(input())\n",
    "high = int(input('what shall the range be. enter the high number'))\n",
    "guesses = 0\n",
    "most_tries = 0\n",
    "least_tries = 0\n",
    "\n",
    "com = str(random.randint(low,high))\n",
    "player = input('what number am I thinking of')\n",
    "triednumbers = [player]\n",
    "guesses = guesses + 1\n",
    "while (player != com):\n",
    "    player = input('try again loser, you have already tried {0}'.format(triednumbers))\n",
    "    triednumbers.append(player)\n",
    "\n",
    "    play = input('Do you want to continue? [Y/n]')\n",
    "    if play == 'n':\n",
    "        break\n",
    "    if play == 'Y':\n",
    "        guesses = guesses + 1\n",
    "\n",
    "if player != com:\n",
    "    print('you gave up. You suck')\n",
    "else:\n",
    "    play = input('Good job. Play again?')\n",
    "    if (play != 'no'):\n",
    "        if (guesses > most_tries):\n",
    "            most_tries = guesses\n",
    "        if (guesses > most_tries):\n",
    "            most_tries = guesses\n",
    "        print('Your most tries are {0}'.format(most_tries))\n",
    "        print('your least tries are {0}'.format(least_tries))\n",
    "        # continue\n",
    "    else:\n",
    "        print('good bye. come back soon')"
   ]
  }
 ],
 "metadata": {
  "kernelspec": {
   "display_name": "Python 3",
   "language": "python",
   "name": "python3"
  },
  "language_info": {
   "codemirror_mode": {
    "name": "ipython",
    "version": 3
   },
   "file_extension": ".py",
   "mimetype": "text/x-python",
   "name": "python",
   "nbconvert_exporter": "python",
   "pygments_lexer": "ipython3",
   "version": "3.7.4"
  }
 },
 "nbformat": 4,
 "nbformat_minor": 4
}
