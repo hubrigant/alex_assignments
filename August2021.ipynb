{
 "cells": [
  {
   "cell_type": "code",
   "execution_count": 3,
   "metadata": {},
   "outputs": [
    {
     "name": "stdout",
     "output_type": "stream",
     "text": [
      "Twinkle, twinkle, little star,\n",
      "\tHow I wonder what you are! \n",
      "\t\tUp above the world so high,   \t\t\n",
      "\t\tLike a diamond in the sky. \n",
      "Twinkle, twinkle, little star, \n",
      "\tHow I wonder what you are\n"
     ]
    }
   ],
   "source": [
    "### Exercise 1\n",
    "# Print out the Twinkle, Twinkle lyrics in the specific form with everything indented one or two tabs except the Twinkle lines\n",
    "print('''Twinkle, twinkle, little star,\n",
    "\tHow I wonder what you are! \n",
    "\t\tUp above the world so high,   \t\t\n",
    "\t\tLike a diamond in the sky. \n",
    "Twinkle, twinkle, little star, \n",
    "\tHow I wonder what you are'''\n",
    "     )"
   ]
  },
  {
   "cell_type": "code",
   "execution_count": 10,
   "metadata": {},
   "outputs": [
    {
     "name": "stdout",
     "output_type": "stream",
     "text": [
      "3.8.3\n"
     ]
    }
   ],
   "source": [
    "### Exercise 2\n",
    "# Print the python major and minor version numbers\n",
    "import sys\n",
    "print(sys.version[:5])"
   ]
  },
  {
   "cell_type": "code",
   "execution_count": 31,
   "metadata": {},
   "outputs": [
    {
     "name": "stdout",
     "output_type": "stream",
     "text": [
      "2021-08-04 13:11:33.187281\n"
     ]
    }
   ],
   "source": [
    "### Exercise 3\n",
    "# Print the current date and time\n",
    "from datetime import datetime, timezone, tzinfo\n",
    "print(datetime.now())"
   ]
  },
  {
   "cell_type": "code",
   "execution_count": 35,
   "metadata": {},
   "outputs": [
    {
     "name": "stdin",
     "output_type": "stream",
     "text": [
      "What is the radius of the circle?  1\n"
     ]
    },
    {
     "name": "stdout",
     "output_type": "stream",
     "text": [
      "The area of the circle is 3.141592653589793\n"
     ]
    }
   ],
   "source": [
    "### Exercise 4\n",
    "# Given a radius input by the user, calculate the area of the circle\n",
    "import math\n",
    "radius = input(\"What is the radius of the circle? \")\n",
    "print(\"The area of the circle is {0}\".format(str(float(radius) * math.pi)))"
   ]
  },
  {
   "cell_type": "code",
   "execution_count": 40,
   "metadata": {},
   "outputs": [
    {
     "name": "stdout",
     "output_type": "stream",
     "text": [
      "One of the objects isn't an integer\n"
     ]
    }
   ],
   "source": [
    "### Exercise 35\n",
    "# Add two objects if both are integers\n",
    "a = 5\n",
    "b = \"6\"\n",
    "if (type(a) == int and type(b) == int):\n",
    "    print(a + b)\n",
    "else:\n",
    "    print(\"One of the objects isn't an integer\")"
   ]
  },
  {
   "cell_type": "code",
   "execution_count": 79,
   "metadata": {},
   "outputs": [
    {
     "name": "stdin",
     "output_type": "stream",
     "text": [
      "What is your name? j\n",
      "How old are you? 32\n",
      "What is your address? 11\n"
     ]
    },
    {
     "name": "stdout",
     "output_type": "stream",
     "text": [
      "Your name is j\n",
      "Your age is 32\n",
      "Your address is 11\n"
     ]
    }
   ],
   "source": [
    "### Exercise 36\n",
    "# Write a Python program to display your details like name, age, address in three different lines\n",
    "name = input(\"What is your name?\")\n",
    "age = input(\"How old are you?\")\n",
    "address = input(\"What is your address?\")\n",
    "print(\"Your name is {0}\".format(name))\n",
    "print(\"Your age is {0}\".format(age))\n",
    "print(\"Your address is {0}\".format(address))\n"
   ]
  },
  {
   "cell_type": "code",
   "execution_count": 52,
   "metadata": {},
   "outputs": [
    {
     "name": "stdout",
     "output_type": "stream",
     "text": [
      "49\n"
     ]
    }
   ],
   "source": [
    "### Exercise 37\n",
    "# Write a Python program to solve (x + y) * (x + y). \n",
    "# Test Data : x = 4, y = 3\n",
    "# Expected Output : (4 + 3) ^ 2) = 49\n",
    "x = 4\n",
    "y = 3\n",
    "print((x+y) * (x+y))"
   ]
  },
  {
   "cell_type": "code",
   "execution_count": 51,
   "metadata": {},
   "outputs": [
    {
     "name": "stdout",
     "output_type": "stream",
     "text": [
      "12722.79\n"
     ]
    }
   ],
   "source": [
    "### Exercise 38\n",
    "# Write a Python program to compute the future value of a specified principal amount, rate of interest, and a number of years. \n",
    "# Test Data : amt = 10000, int = 3.5, years =7\n",
    "# Expected Output : 12722.79\n",
    "principle = 10000\n",
    "rate = 3.5\n",
    "time = 7\n",
    "print(round(principle * (pow((1 + rate / 100), time)), 2))"
   ]
  },
  {
   "cell_type": "code",
   "execution_count": 63,
   "metadata": {},
   "outputs": [
    {
     "name": "stdout",
     "output_type": "stream",
     "text": [
      "1.4142135623730951\n"
     ]
    }
   ],
   "source": [
    "### Exercise 39\n",
    "# Write a Python program to compute the distance between the points (x1, y1) and (x2, y2)\n",
    "from math import *\n",
    "x1 = 1\n",
    "x2 = 2\n",
    "y1 = 1\n",
    "y2 = 2\n",
    "sqrA = abs(x1 - x2)**2\n",
    "sqrB = abs(y1 - y2)**2\n",
    "print(sqrt(sqrA + sqrB))"
   ]
  },
  {
   "cell_type": "code",
   "execution_count": 69,
   "metadata": {},
   "outputs": [
    {
     "name": "stdout",
     "output_type": "stream",
     "text": [
      "The file August2021.ipynb exists\n"
     ]
    }
   ],
   "source": [
    "### Exercise 40\n",
    "# Write a Python program to check whether a file exists\n",
    "import os.path\n",
    "filename = \"August2021.ipynb\"\n",
    "if os.path.exists(filename):\n",
    "    print(\"The file {0} exists\".format(filename))\n",
    "else:\n",
    "    print(\"The file {0} doesn't exist\".format(filename))"
   ]
  },
  {
   "cell_type": "code",
   "execution_count": 70,
   "metadata": {},
   "outputs": [
    {
     "name": "stdout",
     "output_type": "stream",
     "text": [
      "64bit\n"
     ]
    }
   ],
   "source": [
    "### Exercise 41\n",
    "# Write a Python program to determine if a Python shell is executing in 32bit or 64bit mode on OS\n",
    "import platform, struct\n",
    "print(platform.architecture()[0])"
   ]
  },
  {
   "cell_type": "code",
   "execution_count": 77,
   "metadata": {},
   "outputs": [
    {
     "name": "stdout",
     "output_type": "stream",
     "text": [
      "posix.uname_result(sysname='Darwin', nodename='AlexMac.local', release='18.7.0', version='Darwin Kernel Version 18.7.0: Mon May  3 20:41:19 PDT 2021; root:xnu-4903.278.68~1/RELEASE_X86_64', machine='x86_64')\n"
     ]
    }
   ],
   "source": [
    "### Exercise 42\n",
    "# Write a Python program to get OS name, platform and release information\n",
    "import os\n",
    "print(os.uname())"
   ]
  },
  {
   "cell_type": "code",
   "execution_count": 1,
   "metadata": {},
   "outputs": [
    {
     "name": "stdout",
     "output_type": "stream",
     "text": [
      "['/opt/anaconda3/lib/python3.8/site-packages']\n"
     ]
    }
   ],
   "source": [
    "### Exercise 43\n",
    "# Write a Python program to locate Python site-packages\n",
    "import site\n",
    "print(site.getsitepackages())"
   ]
  },
  {
   "cell_type": "code",
   "execution_count": null,
   "metadata": {},
   "outputs": [],
   "source": [
    "### Exercise 44\n",
    "# Write a python program to call an external command in Python\n"
   ]
  }
 ],
 "metadata": {
  "kernelspec": {
   "display_name": "Python 3",
   "language": "python",
   "name": "python3"
  },
  "language_info": {
   "codemirror_mode": {
    "name": "ipython",
    "version": 3
   },
   "file_extension": ".py",
   "mimetype": "text/x-python",
   "name": "python",
   "nbconvert_exporter": "python",
   "pygments_lexer": "ipython3",
   "version": "3.8.3"
  }
 },
 "nbformat": 4,
 "nbformat_minor": 4
}
